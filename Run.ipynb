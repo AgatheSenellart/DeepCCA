{
 "cells": [
  {
   "cell_type": "code",
   "execution_count": 1,
   "metadata": {},
   "outputs": [],
   "source": [
    "%load_ext autoreload\n",
    "%autoreload 2\n",
    "import torch\n",
    "import torch.nn as nn\n",
    "import numpy as np\n",
    "from linear_cca import linear_cca\n",
    "from torch.utils.data import BatchSampler, SequentialSampler\n",
    "from DeepCCAModels import DeepCCA\n",
    "from main import Solver\n",
    "from utils import load_data, svm_classify\n",
    "try:\n",
    "    import cPickle as thepickle\n",
    "except ImportError:\n",
    "    import _pickle as thepickle\n",
    "\n",
    "import gzip\n",
    "import numpy as np\n",
    "torch.set_default_tensor_type(torch.DoubleTensor)"
   ]
  },
  {
   "cell_type": "code",
   "execution_count": 2,
   "metadata": {},
   "outputs": [
    {
     "name": "stdout",
     "output_type": "stream",
     "text": [
      "Using 1 GPUs\n",
      "loading data ...\n",
      "loading data ...\n"
     ]
    }
   ],
   "source": [
    "############\n",
    "# Parameters Section\n",
    "\n",
    "device = torch.device('cuda')\n",
    "print(\"Using\", torch.cuda.device_count(), \"GPUs\")\n",
    "\n",
    "# the path to save the final learned features\n",
    "save_to = './new_features.gz'\n",
    "\n",
    "# the size of the new space learned by the model (number of the new features)\n",
    "outdim_size = 10\n",
    "\n",
    "# size of the input for view 1 and view 2\n",
    "input_shape1 = 784\n",
    "input_shape2 = 784\n",
    "\n",
    "# number of layers with nodes in each one\n",
    "layer_sizes1 = [1024, 1024, 1024, outdim_size]\n",
    "layer_sizes2 = [1024, 1024, 1024, outdim_size]\n",
    "\n",
    "# the parameters for training the network\n",
    "learning_rate = 1e-3\n",
    "epoch_num = 10\n",
    "batch_size = 800\n",
    "\n",
    "# the regularization parameter of the network\n",
    "# seems necessary to avoid the gradient exploding especially when non-saturating activations are used\n",
    "reg_par = 1e-5\n",
    "\n",
    "# specifies if all the singular values should get used to calculate the correlation or just the top outdim_size ones\n",
    "# if one option does not work for a network or dataset, try the other one\n",
    "use_all_singular_values = False\n",
    "\n",
    "# if a linear CCA should get applied on the learned features extracted from the networks\n",
    "# it does not affect the performance on noisy MNIST significantly\n",
    "apply_linear_cca = True\n",
    "# end of parameters section\n",
    "############\n",
    "\n",
    "# Each view is stored in a gzip file separately. They will get downloaded the first time the code gets executed.\n",
    "# Datasets get stored under the datasets folder of user's Keras folder\n",
    "# normally under [Home Folder]/.keras/datasets/\n",
    "data1 = load_data('./noisymnist_view1.gz')\n",
    "data2 = load_data('./noisymnist_view2.gz')"
   ]
  },
  {
   "cell_type": "code",
   "execution_count": 3,
   "metadata": {
    "scrolled": false
   },
   "outputs": [
    {
     "name": "stderr",
     "output_type": "stream",
     "text": [
      "[ INFO : 2019-01-08 23:53:28,429 ] - DataParallel(\n",
      "  (module): DeepCCA(\n",
      "    (model1): MlpNet(\n",
      "      (layers): ModuleList(\n",
      "        (0): Sequential(\n",
      "          (0): Linear(in_features=784, out_features=1024, bias=True)\n",
      "          (1): Sigmoid()\n",
      "        )\n",
      "        (1): Sequential(\n",
      "          (0): Linear(in_features=1024, out_features=1024, bias=True)\n",
      "          (1): Sigmoid()\n",
      "        )\n",
      "        (2): Sequential(\n",
      "          (0): Linear(in_features=1024, out_features=1024, bias=True)\n",
      "          (1): Sigmoid()\n",
      "        )\n",
      "        (3): Linear(in_features=1024, out_features=10, bias=True)\n",
      "      )\n",
      "    )\n",
      "    (model2): MlpNet(\n",
      "      (layers): ModuleList(\n",
      "        (0): Sequential(\n",
      "          (0): Linear(in_features=784, out_features=1024, bias=True)\n",
      "          (1): Sigmoid()\n",
      "        )\n",
      "        (1): Sequential(\n",
      "          (0): Linear(in_features=1024, out_features=1024, bias=True)\n",
      "          (1): Sigmoid()\n",
      "        )\n",
      "        (2): Sequential(\n",
      "          (0): Linear(in_features=1024, out_features=1024, bias=True)\n",
      "          (1): Sigmoid()\n",
      "        )\n",
      "        (3): Linear(in_features=1024, out_features=10, bias=True)\n",
      "      )\n",
      "    )\n",
      "  )\n",
      ")\n",
      "[ INFO : 2019-01-08 23:53:28,430 ] - RMSprop (\n",
      "Parameter Group 0\n",
      "    alpha: 0.99\n",
      "    centered: False\n",
      "    eps: 1e-08\n",
      "    lr: 0.001\n",
      "    momentum: 0\n",
      "    weight_decay: 1e-05\n",
      ")\n",
      "[ INFO : 2019-01-08 23:53:47,360 ] - Epoch 00001: val_loss improved from 0.00000 to -5.74548, saving model to checkpoint.model\n",
      "[ INFO : 2019-01-08 23:53:47,433 ] - Epoch 1/10 - time: 18.62 - train_loss: -4.6186 - val_loss: -5.7455\n",
      "\n",
      "[ INFO : 2019-01-08 23:54:05,524 ] - Epoch 00002: val_loss improved from -5.74548 to -5.93239, saving model to checkpoint.model\n",
      "[ INFO : 2019-01-08 23:54:05,600 ] - Epoch 2/10 - time: 18.17 - train_loss: -5.3158 - val_loss: -5.9324\n",
      "\n",
      "[ INFO : 2019-01-08 23:54:23,522 ] - Epoch 00003: val_loss improved from -5.93239 to -6.35781, saving model to checkpoint.model\n",
      "[ INFO : 2019-01-08 23:54:23,600 ] - Epoch 3/10 - time: 18.00 - train_loss: -5.6766 - val_loss: -6.3578\n",
      "\n",
      "[ INFO : 2019-01-08 23:54:41,811 ] - Epoch 00004: val_loss improved from -6.35781 to -6.74181, saving model to checkpoint.model\n",
      "[ INFO : 2019-01-08 23:54:41,956 ] - Epoch 4/10 - time: 18.36 - train_loss: -5.9249 - val_loss: -6.7418\n",
      "\n",
      "[ INFO : 2019-01-08 23:55:00,284 ] - Epoch 00005: val_loss did not improve from -6.74181\n",
      "[ INFO : 2019-01-08 23:55:00,285 ] - Epoch 5/10 - time: 18.33 - train_loss: -6.1065 - val_loss: -6.5706\n",
      "\n",
      "[ INFO : 2019-01-08 23:55:18,400 ] - Epoch 00006: val_loss improved from -6.74181 to -6.81917, saving model to checkpoint.model\n",
      "[ INFO : 2019-01-08 23:55:18,498 ] - Epoch 6/10 - time: 18.21 - train_loss: -6.2540 - val_loss: -6.8192\n",
      "\n",
      "[ INFO : 2019-01-08 23:55:36,808 ] - Epoch 00007: val_loss improved from -6.81917 to -6.99324, saving model to checkpoint.model\n",
      "[ INFO : 2019-01-08 23:55:36,884 ] - Epoch 7/10 - time: 18.38 - train_loss: -6.3768 - val_loss: -6.9932\n",
      "\n",
      "[ INFO : 2019-01-08 23:55:54,899 ] - Epoch 00008: val_loss improved from -6.99324 to -7.07061, saving model to checkpoint.model\n",
      "[ INFO : 2019-01-08 23:55:54,976 ] - Epoch 8/10 - time: 18.09 - train_loss: -6.4863 - val_loss: -7.0706\n",
      "\n",
      "[ INFO : 2019-01-08 23:56:13,135 ] - Epoch 00009: val_loss improved from -7.07061 to -7.17873, saving model to checkpoint.model\n",
      "[ INFO : 2019-01-08 23:56:13,212 ] - Epoch 9/10 - time: 18.23 - train_loss: -6.5827 - val_loss: -7.1787\n",
      "\n",
      "[ INFO : 2019-01-08 23:56:31,436 ] - Epoch 00010: val_loss improved from -7.17873 to -7.25415, saving model to checkpoint.model\n",
      "[ INFO : 2019-01-08 23:56:31,526 ] - Epoch 10/10 - time: 18.31 - train_loss: -6.6692 - val_loss: -7.2541\n",
      "\n",
      "[ INFO : 2019-01-08 23:56:40,656 ] - loss on validation data: -7.25415\n",
      "[ INFO : 2019-01-08 23:56:42,130 ] - loss on test data: -7.26418\n"
     ]
    },
    {
     "name": "stdout",
     "output_type": "stream",
     "text": [
      "Linear CCA started!\n"
     ]
    }
   ],
   "source": [
    "# Building, training, and producing the new features by DCCA\n",
    "model = DeepCCA(layer_sizes1, layer_sizes2, input_shape1,\n",
    "                input_shape2, outdim_size, use_all_singular_values, device=device).double()\n",
    "l_cca = None\n",
    "if apply_linear_cca:\n",
    "    l_cca = linear_cca()\n",
    "solver = Solver(model, l_cca, outdim_size, epoch_num, batch_size,\n",
    "                learning_rate, reg_par, device=device)\n",
    "train1, train2 = data1[0][0], data2[0][0]\n",
    "val1, val2 = data1[1][0], data2[1][0]\n",
    "test1, test2 = data1[2][0], data2[2][0]\n",
    "\n",
    "solver.fit(train1, train2, val1, val2, test1, test2)\n",
    "# TODO: Save linear_cca model if needed\n",
    "\n",
    "set_size = [0, train1.size(0), train1.size(\n",
    "    0) + val1.size(0), train1.size(0) + val1.size(0) + test1.size(0)]\n",
    "loss, outputs = solver.test(torch.cat([train1, val1, test1], dim=0), torch.cat(\n",
    "    [train2, val2, test2], dim=0), apply_linear_cca)"
   ]
  },
  {
   "cell_type": "code",
   "execution_count": 4,
   "metadata": {},
   "outputs": [
    {
     "name": "stdout",
     "output_type": "stream",
     "text": [
      "training SVM...\n",
      "Accuracy on view 1 (validation data) is: 93.21000000000001\n",
      "Accuracy on view 1 (test data) is: 93.11\n"
     ]
    }
   ],
   "source": [
    "new_data = []\n",
    "# print(outputs)\n",
    "for idx in range(3):\n",
    "    new_data.append([outputs[0][set_size[idx]:set_size[idx + 1], :],\n",
    "                     outputs[1][set_size[idx]:set_size[idx + 1], :], data1[idx][1]])\n",
    "# Training and testing of SVM with linear kernel on the view 1 with new features\n",
    "[test_acc, valid_acc] = svm_classify(new_data, C=0.01)\n",
    "print(\"Accuracy on view 1 (validation data) is:\", valid_acc * 100.0)\n",
    "print(\"Accuracy on view 1 (test data) is:\", test_acc*100.0)"
   ]
  },
  {
   "cell_type": "code",
   "execution_count": 5,
   "metadata": {},
   "outputs": [
    {
     "name": "stdout",
     "output_type": "stream",
     "text": [
      "saving new features ...\n"
     ]
    }
   ],
   "source": [
    "# Saving new features in a gzip pickled file specified by save_to\n",
    "print('saving new features ...')\n",
    "f1 = gzip.open(save_to, 'wb')\n",
    "thepickle.dump(new_data, f1)\n",
    "f1.close()"
   ]
  },
  {
   "cell_type": "code",
   "execution_count": 6,
   "metadata": {},
   "outputs": [
    {
     "data": {
      "text/plain": [
       "<generator object Module.parameters at 0x000002A856918A98>"
      ]
     },
     "execution_count": 6,
     "metadata": {},
     "output_type": "execute_result"
    }
   ],
   "source": [
    "d = torch.load('checkpoint.model')\n",
    "solver.model.load_state_dict(d)\n",
    "solver.model.parameters()"
   ]
  },
  {
   "cell_type": "code",
   "execution_count": null,
   "metadata": {},
   "outputs": [],
   "source": []
  }
 ],
 "metadata": {
  "kernelspec": {
   "display_name": "Python [conda env:py37]",
   "language": "python",
   "name": "conda-env-py37-py"
  },
  "language_info": {
   "codemirror_mode": {
    "name": "ipython",
    "version": 3
   },
   "file_extension": ".py",
   "mimetype": "text/x-python",
   "name": "python",
   "nbconvert_exporter": "python",
   "pygments_lexer": "ipython3",
   "version": "3.7.1"
  }
 },
 "nbformat": 4,
 "nbformat_minor": 2
}
